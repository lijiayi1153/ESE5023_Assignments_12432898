{
 "cells": [
  {
   "cell_type": "markdown",
   "id": "9f563829",
   "metadata": {},
   "source": [
    "### Score: `[44]`\n",
    "\n",
    "Q1. `[16.5]` \n",
    "\n",
    "Q2. `[22]` \n",
    "\n",
    "Q3. `[5.5]`"
   ]
  },
  {
   "cell_type": "markdown",
   "id": "5946049a-11b4-4b39-836a-23baa047cc60",
   "metadata": {},
   "source": [
    "# 1. Modeling of carbon cycle"
   ]
  },
  {
   "cell_type": "code",
   "execution_count": 36,
   "id": "2aae4c7b-d109-4b6c-989c-6b1785a16dfa",
   "metadata": {},
   "outputs": [
    {
     "name": "stdout",
     "output_type": "stream",
     "text": [
      "   Year  \\\n",
      "0  1751   \n",
      "1  1752   \n",
      "2  1753   \n",
      "3  1754   \n",
      "4  1755   \n",
      "\n",
      "   Total carbon emissions from fossil fuel consumption and cement production (million metric tons of C)  \\\n",
      "0                                                  3                                                      \n",
      "1                                                  3                                                      \n",
      "2                                                  3                                                      \n",
      "3                                                  3                                                      \n",
      "4                                                  3                                                      \n",
      "\n",
      "   Carbon emissions from gas fuel consumption  \\\n",
      "0                                           0   \n",
      "1                                           0   \n",
      "2                                           0   \n",
      "3                                           0   \n",
      "4                                           0   \n",
      "\n",
      "   Carbon emissions from liquid fuel consumption  \\\n",
      "0                                              0   \n",
      "1                                              0   \n",
      "2                                              0   \n",
      "3                                              0   \n",
      "4                                              0   \n",
      "\n",
      "   Carbon emissions from solid fuel consumption  \\\n",
      "0                                             3   \n",
      "1                                             3   \n",
      "2                                             3   \n",
      "3                                             3   \n",
      "4                                             3   \n",
      "\n",
      "   Carbon emissions from cement production  Carbon emissions from gas flaring  \\\n",
      "0                                        0                                  0   \n",
      "1                                        0                                  0   \n",
      "2                                        0                                  0   \n",
      "3                                        0                                  0   \n",
      "4                                        0                                  0   \n",
      "\n",
      "   Per capita carbon emissions (metric tons of carbon; after 1949 only)  \n",
      "0                                                NaN                     \n",
      "1                                                NaN                     \n",
      "2                                                NaN                     \n",
      "3                                                NaN                     \n",
      "4                                                NaN                     \n",
      "   year    mean   unc\n",
      "0  1959  315.98  0.12\n",
      "1  1960  316.91  0.12\n",
      "2  1961  317.64  0.12\n",
      "3  1962  318.45  0.12\n",
      "4  1963  318.99  0.12\n",
      "  Ice Sample Code    Analysis Mean Date    Ice Depth,            Ice Age,   \\\n",
      "0                                           m                    year A.D.   \n",
      "1                NaN                NaN             NaN                NaN   \n",
      "2                NaN                NaN             NaN                NaN   \n",
      "3      DE08 205       20-Aug-92                  83.10             1939      \n",
      "4      DE08 235       12-Aug-93                  83.98             1938      \n",
      "\n",
      "           Mean Air Age,         CO2 Mixing Ratio,  \n",
      "0  year A.D.               ppm                      \n",
      "1                    NaN                       NaN  \n",
      "2                    NaN                       NaN  \n",
      "3                  1969                      323.2  \n",
      "4                  1968                      323.7  \n"
     ]
    }
   ],
   "source": [
    "import pandas as pd  \n",
    "import numpy as np  \n",
    "import matplotlib.pyplot as plt  \n",
    "\n",
    "# 读取数据集  \n",
    "fossil_fuel_emissions = pd.read_csv('E:/ESE5023/Global Fossil-Fuel CO2 Emissions.1751_2014.csv')  \n",
    "mauna_loa_data = pd.read_csv('E:/ESE5023/Mauna Loa CO2 annual mean data.csv')  \n",
    "ice_core_data = pd.read_excel('E:/ESE5023/Historical CO2 Records from the Law Dome DE08, DE08-2, and DSS Ice Cores.xlsx')  \n",
    "\n",
    "# 查看每个数据集的前几行以了解其结构  \n",
    "print(fossil_fuel_emissions.head())  \n",
    "print(mauna_loa_data.head())  \n",
    "print(ice_core_data.head())\n",
    "\n",
    "observed_years = mauna_loa_data.loc[(mauna_loa_data['year'] >= 1986) & (mauna_loa_data['year'] <= 2004), 'year']  \n",
    "observed_co2 = mauna_loa_data.loc[(mauna_loa_data['year'] >= 1986) & (mauna_loa_data['year'] <= 2004), 'mean']  "
   ]
  },
  {
   "cell_type": "code",
   "execution_count": 210,
   "id": "92ccb702-2d64-46f1-aedc-9c8d842af00a",
   "metadata": {},
   "outputs": [
    {
     "name": "stdout",
     "output_type": "stream",
     "text": [
      "    Year    N1 (ppm)    N2 (ppm)\n",
      "0   1987  348.338631  423.884374\n",
      "1   1988  349.739287  425.270572\n",
      "2   1989  351.159337  426.698410\n",
      "3   1990  352.543470  428.165919\n",
      "4   1991  353.929449  429.663508\n",
      "5   1992  355.258449  431.188030\n",
      "6   1993  356.567897  432.728347\n",
      "7   1994  357.914941  434.279894\n",
      "8   1995  359.308195  435.846734\n",
      "9   1996  360.748469  437.433691\n",
      "10  1997  362.214939  439.045155\n",
      "11  1998  363.665351  440.682067\n",
      "12  1999  365.088435  442.339264\n",
      "13  2000  366.578163  444.010570\n",
      "14  2001  368.121042  445.703841\n",
      "15  2002  369.684321  447.424130\n",
      "16  2003  371.400092  449.171270\n",
      "17  2004  373.242719  450.963854\n"
     ]
    }
   ],
   "source": [
    "# 常数  \n",
    "k12 = 105/740  \n",
    "k21 = 102/900    \n",
    "gamma = 0\n",
    "\n",
    "# 时间参数  \n",
    "years = np.arange(1987, 2005)  \n",
    "N1 = 347  # 箱1的初始碳浓度（ppm）  \n",
    "N2 = 900/2.13    # 箱2的初始碳浓度（ppm）  \n",
    "\n",
    "# 存储结果  \n",
    "N1_results = []  \n",
    "N2_results = []  \n",
    "\n",
    "# 模拟  \n",
    "for year in years:  \n",
    "    gamma = fossil_fuel_emissions.loc[fossil_fuel_emissions['Year'] == year,   \n",
    "                                       'Total carbon emissions from fossil fuel consumption and cement production (million metric tons of C)'].values[0] \n",
    "    # 碳流速率变化  \n",
    "    dN1_dt = -k12 * N1 + k21 * N2 + gamma/(1000*2.13)\n",
    "    dN2_dt = k12 * N1 - k21 * N2\n",
    "    \n",
    "    # 更新浓度  \n",
    "    N1 += dN1_dt  \n",
    "    N2 += dN2_dt  \n",
    "    \n",
    "    N1_results.append(N1)  \n",
    "    N2_results.append(N2)  \n",
    "\n",
    "# 将结果转换为DataFrame以便于处理  \n",
    "results_df = pd.DataFrame({'Year': years, 'N1 (ppm)': N1_results, 'N2 (ppm)': N2_results})  \n",
    "print(results_df) "
   ]
  },
  {
   "cell_type": "code",
   "execution_count": 212,
   "id": "e87fa3bc-724c-4671-8d11-4146bcd2bbc0",
   "metadata": {},
   "outputs": [
    {
     "name": "stdout",
     "output_type": "stream",
     "text": [
      "    Year    N1 (ppm)    N2 (ppm)\n",
      "0   1987  385.864715  386.358290\n",
      "1   1988  378.680234  396.329626\n",
      "2   1989  384.401426  393.456320\n",
      "3   1990  385.992855  394.716535\n",
      "4   1991  388.929388  394.663570\n",
      "5   1992  391.408347  395.038132\n",
      "6   1993  394.030319  395.265925\n",
      "7   1994  396.655325  395.539511\n",
      "8   1995  399.353938  395.800992\n",
      "9   1996  402.110740  396.071420\n",
      "10  1997  404.915988  396.344106\n",
      "11  1998  407.728181  396.619237\n",
      "12  1999  410.536031  396.891669\n",
      "13  2000  413.427447  397.161286\n",
      "14  2001  416.386237  397.438646\n",
      "15  2002  419.389451  397.719000\n",
      "16  2003  422.570696  398.000666\n",
      "17  2004  425.906880  398.299693\n"
     ]
    }
   ],
   "source": [
    "# 重置初始条件  \n",
    "N1 = 347  \n",
    "N2 = 900/2.13 \n",
    "\n",
    "# 存储结果  \n",
    "N1_buffered_results = []  \n",
    "N2_buffered_results = []  \n",
    "\n",
    "# 带缓冲效应的模拟  \n",
    "for year in years: \n",
    "    gamma = fossil_fuel_emissions.loc[fossil_fuel_emissions['Year'] == year,   \n",
    "                                       'Total carbon emissions from fossil fuel consumption and cement production (million metric tons of C)'].values[0] \n",
    "    xi = 3.69 + 0.0186 * N1 - 0.0000018 * N1 ** 2  # 缓冲效应系数  \n",
    "    N2_eq = 821/2.13  # 箱2中的平衡浓度  \n",
    "    dN1_dt = -k12 * N1 + k21 * (N2_eq + xi * (N2 - N2_eq)) + gamma/(1000*2.13)  \n",
    "    dN2_dt = k12 * N1 - k21 * (N2_eq + xi * (N2 - N2_eq))  \n",
    "\n",
    "    # 更新浓度  \n",
    "    N1 += dN1_dt  \n",
    "    N2 += dN2_dt  \n",
    "\n",
    "    N1_buffered_results.append(N1)  \n",
    "    N2_buffered_results.append(N2)  \n",
    "\n",
    "# 将结果转换为DataFrame  \n",
    "results_buffered_df = pd.DataFrame({'Year': years, 'N1 (ppm)': N1_buffered_results, 'N2 (ppm)': N2_buffered_results})  \n",
    "print(results_buffered_df)"
   ]
  },
  {
   "cell_type": "code",
   "execution_count": 213,
   "id": "701df442-c346-47a4-b4d2-f9013554ba3e",
   "metadata": {},
   "outputs": [
    {
     "data": {
      "image/png": "[encoded data removed]",
      "text/plain": [
       "<Figure size 1000x600 with 1 Axes>"
      ]
     },
     "metadata": {},
     "output_type": "display_data"
    }
   ],
   "source": [
    "plt.figure(figsize=(10, 6))  \n",
    "plt.plot(results_df['Year'], results_df['N1 (ppm)'], label='Calculation without Buffer Effect', color='grey')  \n",
    "plt.plot(results_buffered_df['Year'], results_buffered_df['N1 (ppm)'], label='Calculation with Buffer Effect', color='black', linewidth=2)  \n",
    "plt.scatter(observed_years, observed_co2, color='gray', label='Observations', zorder=5)  # 观测值\n",
    "\n",
    "plt.xticks(np.arange(1985, 2006, 5))\n",
    "plt.xlabel('Year')  \n",
    "plt.ylabel('CO2 Concentration (ppm)')  \n",
    "plt.legend()  \n",
    "plt.xlim(1984, 2005)  \n",
    "plt.ylim(340,450)\n",
    "plt.show()"
   ]
  },
  {
   "cell_type": "code",
   "execution_count": null,
   "id": "6ee28d1b-dd9a-4d44-ba31-ad17ecd366ea",
   "metadata": {},
   "outputs": [],
   "source": []
  }
 ],
 "metadata": {
  "kernelspec": {
   "display_name": "Python 3 (ipykernel)",
   "language": "python",
   "name": "python3"
  },
  "language_info": {
   "codemirror_mode": {
    "name": "ipython",
    "version": 3
   },
   "file_extension": ".py",
   "mimetype": "text/x-python",
   "name": "python",
   "nbconvert_exporter": "python",
   "pygments_lexer": "ipython3",
   "version": "3.11.7"
  }
 },
 "nbformat": 4,
 "nbformat_minor": 5
}
